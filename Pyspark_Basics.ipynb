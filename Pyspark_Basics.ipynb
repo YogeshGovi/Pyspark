{
 "cells": [
  {
   "cell_type": "code",
   "execution_count": 8,
   "metadata": {},
   "outputs": [],
   "source": [
    "import findspark\n",
    "findspark.init()\n",
    "\n",
    "from pyspark.conf import SparkConf\n",
    "from pyspark.context import SparkContext"
   ]
  },
  {
   "cell_type": "code",
   "execution_count": 10,
   "metadata": {},
   "outputs": [],
   "source": [
    "conf = SparkConf().setAppName(\"Pyspark_Basics\").setMaster(\"local[*]\")\n",
    "sc = SparkContext(conf=conf)"
   ]
  },
  {
   "cell_type": "code",
   "execution_count": 58,
   "metadata": {},
   "outputs": [
    {
     "name": "stdout",
     "output_type": "stream",
     "text": [
      "/home/hduser/Documents/BigData-Ecosystem/Python/test.txt\n",
      "3\n"
     ]
    }
   ],
   "source": [
    "## Add the file to be downloaded in each node of spark Cluster.\n",
    "import os\n",
    "from pyspark import SparkFiles\n",
    "#path = os.path.join(tempdir, \"test.txt\")\n",
    "path = os.path.join('/home/hduser/Documents/BigData-Ecosystem/Python/', \"test.txt\")\n",
    "print(path)\n",
    "with open(path, \"w\") as testFile:\n",
    "   data_1 = testFile.write(\"100\")\n",
    "   print(data_1)\n",
    "sc.addFile(path, recursive=True)\n",
    "\n"
   ]
  },
  {
   "cell_type": "code",
   "execution_count": 98,
   "metadata": {},
   "outputs": [],
   "source": [
    "## Finding the file \n",
    "def func(iterator):\n",
    "   with open(SparkFiles.get(\"test.txt\")) as testFile:\n",
    "       fileVal = int(testFile.readline())\n",
    "       print(\"File Val is : \", fileVal)\n",
    "       return [x * fileVal for x in iterator]\n",
    "       #return fileVal "
   ]
  },
  {
   "cell_type": "code",
   "execution_count": 99,
   "metadata": {},
   "outputs": [
    {
     "name": "stdout",
     "output_type": "stream",
     "text": [
      "File Val is :  100\n",
      "[100, 250.0, 330.0, 450.0]\n"
     ]
    }
   ],
   "source": [
    "func_data = func([1,2.5,3.3,4.5])\n",
    "print((func_data))"
   ]
  },
  {
   "cell_type": "code",
   "execution_count": 100,
   "metadata": {},
   "outputs": [
    {
     "data": {
      "text/plain": [
       "[100, 200, 300, 400]"
      ]
     },
     "execution_count": 100,
     "metadata": {},
     "output_type": "execute_result"
    }
   ],
   "source": [
    "sc.parallelize([1, 2, 3, 4]).mapPartitions(func).collect()"
   ]
  }
 ],
 "metadata": {
  "kernelspec": {
   "display_name": "Python 3",
   "language": "python",
   "name": "python3"
  },
  "language_info": {
   "codemirror_mode": {
    "name": "ipython",
    "version": 3
   },
   "file_extension": ".py",
   "mimetype": "text/x-python",
   "name": "python",
   "nbconvert_exporter": "python",
   "pygments_lexer": "ipython3",
   "version": "3.7.7"
  }
 },
 "nbformat": 4,
 "nbformat_minor": 4
}
